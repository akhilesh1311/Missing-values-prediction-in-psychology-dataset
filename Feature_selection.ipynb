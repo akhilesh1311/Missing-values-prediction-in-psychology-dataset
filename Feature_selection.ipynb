{
 "cells": [
  {
   "cell_type": "code",
   "execution_count": 1,
   "metadata": {},
   "outputs": [],
   "source": [
    "import numpy as np\n",
    "import pandas as pd\n",
    "import string\n",
    "import math\n",
    "pd.set_option('display.max_rows', 20)\n",
    "pd.set_option('display.max_columns', 400)"
   ]
  },
  {
   "cell_type": "code",
   "execution_count": 2,
   "metadata": {},
   "outputs": [],
   "source": [
    "file_name = \"Tab.delimited.Cleaned.dataset.WITH.variable.labels\"\n",
    "df = pd.read_csv(r\"ML1/\" + file_name + \".preprocessed1\" + \".csv\", sep=',', encoding='utf-8', low_memory=False)"
   ]
  },
  {
   "cell_type": "code",
   "execution_count": 3,
   "metadata": {},
   "outputs": [],
   "source": [
    "import math\n",
    "def mutual_info(df):\n",
    "  mutual_info_matrix = np.zeros(shape = (df.shape[1], df.shape[1]))\n",
    "  for i, col1 in enumerate(list(df)):\n",
    "    for j, col2 in enumerate(list(df)):\n",
    "      if j < i:\n",
    "        continue\n",
    "#       print(\"cols \", col1, \" \", col2)\n",
    "      prob1 = {}\n",
    "      prob2 = {}\n",
    "      prob12 = {}\n",
    "      for val1 in df[col1].unique():\n",
    "        if pd.isnull(val1):\n",
    "          prob1[\"nan\"] = (df[col1].isnull().value_counts()[True]/df.shape[0])\n",
    "          continue\n",
    "        prob1[val1] = (df[col1].value_counts()[val1]/df.shape[0])\n",
    "#         print(val1, \" \", prob1[val1])\n",
    "#       print()\n",
    "      for val2 in df[col2].unique():\n",
    "        if pd.isnull(val2):\n",
    "          prob2[\"nan\"] = (df[col2].isnull().value_counts()[True]/df.shape[0])\n",
    "          continue\n",
    "        prob2[val2] = (df[col2].value_counts()[val2]/df.shape[0])\n",
    "#         print(val2, \" \", prob2[val2])\n",
    "      for val1 in df[col1].unique():\n",
    "#         if pd.isnull(val1):\n",
    "#           continue\n",
    "        for val2 in df[col2].unique():\n",
    "          if pd.isnull(val1) and not pd.isnull(val2):\n",
    "            prob12[(\"nan\", val2)] = df[df[col1].isnull() & (df[col2] == val2)].shape[0]/df.shape[0]\n",
    "          elif not pd.isnull(val1) and pd.isnull(val2):\n",
    "            prob12[(val1, \"nan\")] = df[(df[col1] == val1) & df[col2].isnull()].shape[0]/df.shape[0]\n",
    "          elif pd.isnull(val1) and pd.isnull(val2):\n",
    "            prob12[(\"nan\", \"nan\")] = df[df[col1].isnull() & df[col2].isnull()].shape[0]/df.shape[0]\n",
    "          else:\n",
    "            prob12[(val1, val2)] = df[(df[col1] == val1) & (df[col2] == val2)].shape[0]/df.shape[0]\n",
    "#           print(val1,  \" \", val2, \" \", prob12[(val1, val2)])   \n",
    "#       print()\n",
    "      mutual_in = 0\n",
    "      for k in range(df.shape[0]):\n",
    "        if pd.isnull(df.iloc[k, i]) and not pd.isnull(df.iloc[k, j]):\n",
    "          ratio = prob12[(\"nan\", df.iloc[k, j])]/(prob1[\"nan\"]*prob2[df.iloc[k, j]])\n",
    "        elif not pd.isnull(df.iloc[k, i]) and pd.isnull(df.iloc[k, j]):\n",
    "          ratio = prob12[(df.iloc[k, i], \"nan\")]/(prob1[df.iloc[k, i]]*prob2[\"nan\"])\n",
    "        elif pd.isnull(df.iloc[k, i]) and pd.isnull(df.iloc[k, j]):\n",
    "          ratio = prob12[(\"nan\", \"nan\")]/(prob1[\"nan\"]*prob2[\"nan\"])\n",
    "        else:\n",
    "          ratio = prob12[(df.iloc[k, i], df.iloc[k, j])]/(prob1[df.iloc[k, i]]*prob2[df.iloc[k, j]])\n",
    "        if ratio == 0:\n",
    "          continue\n",
    "#         print(\"lol \", i, \" \", j, \" \", k)\n",
    "#         print(\"p in both \", prob12[(df.iloc[k, i], df.iloc[k, j])], \" p in i \", prob1[df.iloc[k, i]], \" p in j \", prob2[df.iloc[k, j]])\n",
    "        mutual_in = mutual_in + math.log(ratio)\n",
    "      mutual_info_matrix[i][j] = mutual_in\n",
    "      print(\"mutual info for \", i, \" \", j, \" \", mutual_in)\n",
    "  return mutual_info_matrix"
   ]
  },
  {
   "cell_type": "code",
   "execution_count": 4,
   "metadata": {},
   "outputs": [],
   "source": [
    "df_temp = pd.DataFrame(np.array([[0, 1, np.NaN], [0, np.NaN, 4], [1, 2, np.NaN], [0, 1, 6]]))"
   ]
  },
  {
   "cell_type": "code",
   "execution_count": 5,
   "metadata": {},
   "outputs": [
    {
     "data": {
      "text/html": [
       "<div>\n",
       "<style>\n",
       "    .dataframe thead tr:only-child th {\n",
       "        text-align: right;\n",
       "    }\n",
       "\n",
       "    .dataframe thead th {\n",
       "        text-align: left;\n",
       "    }\n",
       "\n",
       "    .dataframe tbody tr th {\n",
       "        vertical-align: top;\n",
       "    }\n",
       "</style>\n",
       "<table border=\"1\" class=\"dataframe\">\n",
       "  <thead>\n",
       "    <tr style=\"text-align: right;\">\n",
       "      <th></th>\n",
       "      <th>0</th>\n",
       "      <th>1</th>\n",
       "      <th>2</th>\n",
       "    </tr>\n",
       "  </thead>\n",
       "  <tbody>\n",
       "    <tr>\n",
       "      <th>0</th>\n",
       "      <td>0.0</td>\n",
       "      <td>1.0</td>\n",
       "      <td>NaN</td>\n",
       "    </tr>\n",
       "    <tr>\n",
       "      <th>1</th>\n",
       "      <td>0.0</td>\n",
       "      <td>NaN</td>\n",
       "      <td>4.0</td>\n",
       "    </tr>\n",
       "    <tr>\n",
       "      <th>2</th>\n",
       "      <td>1.0</td>\n",
       "      <td>2.0</td>\n",
       "      <td>NaN</td>\n",
       "    </tr>\n",
       "    <tr>\n",
       "      <th>3</th>\n",
       "      <td>0.0</td>\n",
       "      <td>1.0</td>\n",
       "      <td>6.0</td>\n",
       "    </tr>\n",
       "  </tbody>\n",
       "</table>\n",
       "</div>"
      ],
      "text/plain": [
       "     0    1    2\n",
       "0  0.0  1.0  NaN\n",
       "1  0.0  NaN  4.0\n",
       "2  1.0  2.0  NaN\n",
       "3  0.0  1.0  6.0"
      ]
     },
     "execution_count": 5,
     "metadata": {},
     "output_type": "execute_result"
    }
   ],
   "source": [
    "df_temp"
   ]
  },
  {
   "cell_type": "code",
   "execution_count": 6,
   "metadata": {},
   "outputs": [
    {
     "name": "stdout",
     "output_type": "stream",
     "text": [
      "mutual info for  0   0   2.249340578475233\n",
      "mutual info for  0   1   2.249340578475233\n",
      "mutual info for  0   2   0.8630462173553426\n",
      "mutual info for  1   1   4.1588830833596715\n",
      "mutual info for  1   2   2.772588722239781\n",
      "mutual info for  2   2   4.1588830833596715\n"
     ]
    },
    {
     "data": {
      "text/plain": [
       "array([[ 2.24934058,  2.24934058,  0.86304622],\n",
       "       [ 0.        ,  4.15888308,  2.77258872],\n",
       "       [ 0.        ,  0.        ,  4.15888308]])"
      ]
     },
     "execution_count": 6,
     "metadata": {},
     "output_type": "execute_result"
    }
   ],
   "source": [
    "mutual_info(df_temp)"
   ]
  },
  {
   "cell_type": "code",
   "execution_count": 4,
   "metadata": {
    "scrolled": true
   },
   "outputs": [
    {
     "name": "stdout",
     "output_type": "stream",
     "text": [
      "mutual info for  0   0   6311.218098033685\n",
      "mutual info for  0   1   185.77867233701932\n",
      "mutual info for  0   2   6.836053237244683\n",
      "mutual info for  0   3   1.7229113303780472\n",
      "mutual info for  0   4   1.2981340287652419\n",
      "mutual info for  0   5   4.080571376693224\n",
      "mutual info for  0   6   1.2278438591797785\n",
      "mutual info for  0   7   5.6369446489210855\n",
      "mutual info for  0   8   21.1893648663753\n",
      "mutual info for  0   9   26.240233119902143\n",
      "mutual info for  0   10   9.947703394668164\n",
      "mutual info for  0   11   15.164416171436258\n",
      "mutual info for  0   12   2.9425747456844307\n",
      "mutual info for  0   13   20.611622059025105\n",
      "mutual info for  0   14   8.883219217016329\n",
      "mutual info for  0   15   6.023303007456846\n",
      "mutual info for  0   16   8.787763786627696\n",
      "mutual info for  0   17   1818.0068156813622\n",
      "mutual info for  0   18   5.452445518422048\n",
      "mutual info for  0   19   18.65188005063601\n",
      "mutual info for  0   20   27.14177590380077\n",
      "mutual info for  0   21   10.616562126566405\n",
      "mutual info for  0   22   20.786387945705215\n",
      "mutual info for  0   23   13.139153989952712\n",
      "mutual info for  0   24   17.79711110818193\n",
      "mutual info for  0   25   9.792129652763949\n",
      "mutual info for  0   26   21.700418208870726\n",
      "mutual info for  0   27   17.495349372612107\n",
      "mutual info for  0   28   140.1274809316556\n",
      "mutual info for  0   29   234.16921348519176\n",
      "mutual info for  0   30   234.16921348519176\n"
     ]
    },
    {
     "ename": "KeyboardInterrupt",
     "evalue": "",
     "output_type": "error",
     "traceback": [
      "\u001b[0;31m---------------------------------------------------------------------------\u001b[0m",
      "\u001b[0;31mKeyboardInterrupt\u001b[0m                         Traceback (most recent call last)",
      "\u001b[0;32m<ipython-input-4-88c3c95c0221>\u001b[0m in \u001b[0;36m<module>\u001b[0;34m()\u001b[0m\n\u001b[0;32m----> 1\u001b[0;31m \u001b[0mmutual_info\u001b[0m\u001b[0;34m(\u001b[0m\u001b[0mdf\u001b[0m\u001b[0;34m.\u001b[0m\u001b[0miloc\u001b[0m\u001b[0;34m[\u001b[0m\u001b[0;34m:\u001b[0m\u001b[0;34m,\u001b[0m \u001b[0;36m127\u001b[0m\u001b[0;34m:\u001b[0m\u001b[0;34m]\u001b[0m\u001b[0;34m)\u001b[0m\u001b[0;34m\u001b[0m\u001b[0m\n\u001b[0m",
      "\u001b[0;32m<ipython-input-3-51f15d472225>\u001b[0m in \u001b[0;36mmutual_info\u001b[0;34m(df)\u001b[0m\n\u001b[1;32m     46\u001b[0m           \u001b[0mratio\u001b[0m \u001b[0;34m=\u001b[0m \u001b[0mprob12\u001b[0m\u001b[0;34m[\u001b[0m\u001b[0;34m(\u001b[0m\u001b[0;34m\"nan\"\u001b[0m\u001b[0;34m,\u001b[0m \u001b[0;34m\"nan\"\u001b[0m\u001b[0;34m)\u001b[0m\u001b[0;34m]\u001b[0m\u001b[0;34m/\u001b[0m\u001b[0;34m(\u001b[0m\u001b[0mprob1\u001b[0m\u001b[0;34m[\u001b[0m\u001b[0;34m\"nan\"\u001b[0m\u001b[0;34m]\u001b[0m\u001b[0;34m*\u001b[0m\u001b[0mprob2\u001b[0m\u001b[0;34m[\u001b[0m\u001b[0;34m\"nan\"\u001b[0m\u001b[0;34m]\u001b[0m\u001b[0;34m)\u001b[0m\u001b[0;34m\u001b[0m\u001b[0m\n\u001b[1;32m     47\u001b[0m         \u001b[0;32melse\u001b[0m\u001b[0;34m:\u001b[0m\u001b[0;34m\u001b[0m\u001b[0m\n\u001b[0;32m---> 48\u001b[0;31m           \u001b[0mratio\u001b[0m \u001b[0;34m=\u001b[0m \u001b[0mprob12\u001b[0m\u001b[0;34m[\u001b[0m\u001b[0;34m(\u001b[0m\u001b[0mdf\u001b[0m\u001b[0;34m.\u001b[0m\u001b[0miloc\u001b[0m\u001b[0;34m[\u001b[0m\u001b[0mk\u001b[0m\u001b[0;34m,\u001b[0m \u001b[0mi\u001b[0m\u001b[0;34m]\u001b[0m\u001b[0;34m,\u001b[0m \u001b[0mdf\u001b[0m\u001b[0;34m.\u001b[0m\u001b[0miloc\u001b[0m\u001b[0;34m[\u001b[0m\u001b[0mk\u001b[0m\u001b[0;34m,\u001b[0m \u001b[0mj\u001b[0m\u001b[0;34m]\u001b[0m\u001b[0;34m)\u001b[0m\u001b[0;34m]\u001b[0m\u001b[0;34m/\u001b[0m\u001b[0;34m(\u001b[0m\u001b[0mprob1\u001b[0m\u001b[0;34m[\u001b[0m\u001b[0mdf\u001b[0m\u001b[0;34m.\u001b[0m\u001b[0miloc\u001b[0m\u001b[0;34m[\u001b[0m\u001b[0mk\u001b[0m\u001b[0;34m,\u001b[0m \u001b[0mi\u001b[0m\u001b[0;34m]\u001b[0m\u001b[0;34m]\u001b[0m\u001b[0;34m*\u001b[0m\u001b[0mprob2\u001b[0m\u001b[0;34m[\u001b[0m\u001b[0mdf\u001b[0m\u001b[0;34m.\u001b[0m\u001b[0miloc\u001b[0m\u001b[0;34m[\u001b[0m\u001b[0mk\u001b[0m\u001b[0;34m,\u001b[0m \u001b[0mj\u001b[0m\u001b[0;34m]\u001b[0m\u001b[0;34m]\u001b[0m\u001b[0;34m)\u001b[0m\u001b[0;34m\u001b[0m\u001b[0m\n\u001b[0m\u001b[1;32m     49\u001b[0m         \u001b[0;32mif\u001b[0m \u001b[0mratio\u001b[0m \u001b[0;34m==\u001b[0m \u001b[0;36m0\u001b[0m\u001b[0;34m:\u001b[0m\u001b[0;34m\u001b[0m\u001b[0m\n\u001b[1;32m     50\u001b[0m           \u001b[0;32mcontinue\u001b[0m\u001b[0;34m\u001b[0m\u001b[0m\n",
      "\u001b[0;32m~/coding/anaconda3/lib/python3.6/site-packages/pandas/core/indexing.py\u001b[0m in \u001b[0;36m__getitem__\u001b[0;34m(self, key)\u001b[0m\n\u001b[1;32m   1320\u001b[0m             \u001b[0;32mtry\u001b[0m\u001b[0;34m:\u001b[0m\u001b[0;34m\u001b[0m\u001b[0m\n\u001b[1;32m   1321\u001b[0m                 \u001b[0;32mif\u001b[0m \u001b[0mself\u001b[0m\u001b[0;34m.\u001b[0m\u001b[0m_is_scalar_access\u001b[0m\u001b[0;34m(\u001b[0m\u001b[0mkey\u001b[0m\u001b[0;34m)\u001b[0m\u001b[0;34m:\u001b[0m\u001b[0;34m\u001b[0m\u001b[0m\n\u001b[0;32m-> 1322\u001b[0;31m                     \u001b[0;32mreturn\u001b[0m \u001b[0mself\u001b[0m\u001b[0;34m.\u001b[0m\u001b[0m_getitem_scalar\u001b[0m\u001b[0;34m(\u001b[0m\u001b[0mkey\u001b[0m\u001b[0;34m)\u001b[0m\u001b[0;34m\u001b[0m\u001b[0m\n\u001b[0m\u001b[1;32m   1323\u001b[0m             \u001b[0;32mexcept\u001b[0m \u001b[0;34m(\u001b[0m\u001b[0mKeyError\u001b[0m\u001b[0;34m,\u001b[0m \u001b[0mIndexError\u001b[0m\u001b[0;34m)\u001b[0m\u001b[0;34m:\u001b[0m\u001b[0;34m\u001b[0m\u001b[0m\n\u001b[1;32m   1324\u001b[0m                 \u001b[0;32mpass\u001b[0m\u001b[0;34m\u001b[0m\u001b[0m\n",
      "\u001b[0;32m~/coding/anaconda3/lib/python3.6/site-packages/pandas/core/indexing.py\u001b[0m in \u001b[0;36m_getitem_scalar\u001b[0;34m(self, key)\u001b[0m\n\u001b[1;32m   1627\u001b[0m         \u001b[0;31m# a fast-path to scalar access\u001b[0m\u001b[0;34m\u001b[0m\u001b[0;34m\u001b[0m\u001b[0m\n\u001b[1;32m   1628\u001b[0m         \u001b[0;31m# if not, raise\u001b[0m\u001b[0;34m\u001b[0m\u001b[0;34m\u001b[0m\u001b[0m\n\u001b[0;32m-> 1629\u001b[0;31m         \u001b[0mvalues\u001b[0m \u001b[0;34m=\u001b[0m \u001b[0mself\u001b[0m\u001b[0;34m.\u001b[0m\u001b[0mobj\u001b[0m\u001b[0;34m.\u001b[0m\u001b[0mget_value\u001b[0m\u001b[0;34m(\u001b[0m\u001b[0;34m*\u001b[0m\u001b[0mkey\u001b[0m\u001b[0;34m,\u001b[0m \u001b[0mtakeable\u001b[0m\u001b[0;34m=\u001b[0m\u001b[0;32mTrue\u001b[0m\u001b[0;34m)\u001b[0m\u001b[0;34m\u001b[0m\u001b[0m\n\u001b[0m\u001b[1;32m   1630\u001b[0m         \u001b[0;32mreturn\u001b[0m \u001b[0mvalues\u001b[0m\u001b[0;34m\u001b[0m\u001b[0m\n\u001b[1;32m   1631\u001b[0m \u001b[0;34m\u001b[0m\u001b[0m\n",
      "\u001b[0;32m~/coding/anaconda3/lib/python3.6/site-packages/pandas/core/frame.py\u001b[0m in \u001b[0;36mget_value\u001b[0;34m(self, index, col, takeable)\u001b[0m\n\u001b[1;32m   1814\u001b[0m \u001b[0;34m\u001b[0m\u001b[0m\n\u001b[1;32m   1815\u001b[0m         \u001b[0;32mif\u001b[0m \u001b[0mtakeable\u001b[0m\u001b[0;34m:\u001b[0m\u001b[0;34m\u001b[0m\u001b[0m\n\u001b[0;32m-> 1816\u001b[0;31m             \u001b[0mseries\u001b[0m \u001b[0;34m=\u001b[0m \u001b[0mself\u001b[0m\u001b[0;34m.\u001b[0m\u001b[0m_iget_item_cache\u001b[0m\u001b[0;34m(\u001b[0m\u001b[0mcol\u001b[0m\u001b[0;34m)\u001b[0m\u001b[0;34m\u001b[0m\u001b[0m\n\u001b[0m\u001b[1;32m   1817\u001b[0m             \u001b[0;32mreturn\u001b[0m \u001b[0m_maybe_box_datetimelike\u001b[0m\u001b[0;34m(\u001b[0m\u001b[0mseries\u001b[0m\u001b[0;34m.\u001b[0m\u001b[0m_values\u001b[0m\u001b[0;34m[\u001b[0m\u001b[0mindex\u001b[0m\u001b[0;34m]\u001b[0m\u001b[0;34m)\u001b[0m\u001b[0;34m\u001b[0m\u001b[0m\n\u001b[1;32m   1818\u001b[0m \u001b[0;34m\u001b[0m\u001b[0m\n",
      "\u001b[0;32m~/coding/anaconda3/lib/python3.6/site-packages/pandas/core/generic.py\u001b[0m in \u001b[0;36m_iget_item_cache\u001b[0;34m(self, item)\u001b[0m\n\u001b[1;32m   1667\u001b[0m         \u001b[0max\u001b[0m \u001b[0;34m=\u001b[0m \u001b[0mself\u001b[0m\u001b[0;34m.\u001b[0m\u001b[0m_info_axis\u001b[0m\u001b[0;34m\u001b[0m\u001b[0m\n\u001b[1;32m   1668\u001b[0m         \u001b[0;32mif\u001b[0m \u001b[0max\u001b[0m\u001b[0;34m.\u001b[0m\u001b[0mis_unique\u001b[0m\u001b[0;34m:\u001b[0m\u001b[0;34m\u001b[0m\u001b[0m\n\u001b[0;32m-> 1669\u001b[0;31m             \u001b[0mlower\u001b[0m \u001b[0;34m=\u001b[0m \u001b[0mself\u001b[0m\u001b[0;34m.\u001b[0m\u001b[0m_get_item_cache\u001b[0m\u001b[0;34m(\u001b[0m\u001b[0max\u001b[0m\u001b[0;34m[\u001b[0m\u001b[0mitem\u001b[0m\u001b[0;34m]\u001b[0m\u001b[0;34m)\u001b[0m\u001b[0;34m\u001b[0m\u001b[0m\n\u001b[0m\u001b[1;32m   1670\u001b[0m         \u001b[0;32melse\u001b[0m\u001b[0;34m:\u001b[0m\u001b[0;34m\u001b[0m\u001b[0m\n\u001b[1;32m   1671\u001b[0m             \u001b[0mlower\u001b[0m \u001b[0;34m=\u001b[0m \u001b[0mself\u001b[0m\u001b[0;34m.\u001b[0m\u001b[0mtake\u001b[0m\u001b[0;34m(\u001b[0m\u001b[0mitem\u001b[0m\u001b[0;34m,\u001b[0m \u001b[0maxis\u001b[0m\u001b[0;34m=\u001b[0m\u001b[0mself\u001b[0m\u001b[0;34m.\u001b[0m\u001b[0m_info_axis_number\u001b[0m\u001b[0;34m,\u001b[0m \u001b[0mconvert\u001b[0m\u001b[0;34m=\u001b[0m\u001b[0;32mTrue\u001b[0m\u001b[0;34m)\u001b[0m\u001b[0;34m\u001b[0m\u001b[0m\n",
      "\u001b[0;32m~/coding/anaconda3/lib/python3.6/site-packages/pandas/core/indexes/base.py\u001b[0m in \u001b[0;36m__getitem__\u001b[0;34m(self, key)\u001b[0m\n\u001b[1;32m   1670\u001b[0m         \u001b[0;32mraise\u001b[0m \u001b[0mTypeError\u001b[0m\u001b[0;34m(\u001b[0m\u001b[0;34m\"Index does not support mutable operations\"\u001b[0m\u001b[0;34m)\u001b[0m\u001b[0;34m\u001b[0m\u001b[0m\n\u001b[1;32m   1671\u001b[0m \u001b[0;34m\u001b[0m\u001b[0m\n\u001b[0;32m-> 1672\u001b[0;31m     \u001b[0;32mdef\u001b[0m \u001b[0m__getitem__\u001b[0m\u001b[0;34m(\u001b[0m\u001b[0mself\u001b[0m\u001b[0;34m,\u001b[0m \u001b[0mkey\u001b[0m\u001b[0;34m)\u001b[0m\u001b[0;34m:\u001b[0m\u001b[0;34m\u001b[0m\u001b[0m\n\u001b[0m\u001b[1;32m   1673\u001b[0m         \"\"\"\n\u001b[1;32m   1674\u001b[0m         \u001b[0mOverride\u001b[0m \u001b[0mnumpy\u001b[0m\u001b[0;34m.\u001b[0m\u001b[0mndarray\u001b[0m\u001b[0;31m'\u001b[0m\u001b[0ms\u001b[0m \u001b[0m__getitem__\u001b[0m \u001b[0mmethod\u001b[0m \u001b[0mto\u001b[0m \u001b[0mwork\u001b[0m \u001b[0;32mas\u001b[0m \u001b[0mdesired\u001b[0m\u001b[0;34m.\u001b[0m\u001b[0;34m\u001b[0m\u001b[0m\n",
      "\u001b[0;31mKeyboardInterrupt\u001b[0m: "
     ]
    }
   ],
   "source": [
    "mutual_info(df.iloc[:, 127:])"
   ]
  },
  {
   "cell_type": "code",
   "execution_count": 7,
   "metadata": {},
   "outputs": [
    {
     "data": {
      "text/plain": [
       "(6344, 205)"
      ]
     },
     "execution_count": 7,
     "metadata": {},
     "output_type": "execute_result"
    }
   ],
   "source": [
    "df.shape"
   ]
  },
  {
   "cell_type": "code",
   "execution_count": 8,
   "metadata": {},
   "outputs": [
    {
     "data": {
      "text/plain": [
       "6314"
      ]
     },
     "execution_count": 8,
     "metadata": {},
     "output_type": "execute_result"
    }
   ],
   "source": [
    "df.race.value_counts().sum()"
   ]
  },
  {
   "cell_type": "code",
   "execution_count": 9,
   "metadata": {},
   "outputs": [],
   "source": [
    "def calculate_info_gain_g(df, col, y, consider_nan = \"True\"):\n",
    "  if consider_nan:\n",
    "    y_value_counts = df.iloc[:, y].value_counts().to_dict()\n",
    "    y_value_counts[\"nan\"] = df.shape[0] - df.iloc[:, y].value_counts().sum()\n",
    "    col_value_counts = df.iloc[:, col].value_counts().to_dict()\n",
    "    col_value_counts[\"nan\"] = df.shape[0] - df.iloc[:, col].value_counts().sum()\n",
    "    h_y = 0\n",
    "    h_x_y = 0\n",
    "    count_dict = {}\n",
    "    \n",
    "    for val1 in df.iloc[:, col].unique():\n",
    "      for val2 in df.iloc[:, y].unique():\n",
    "        if pd.isnull(val1) and pd.isnull(val2):\n",
    "          count_dict[(\"nan\", \"nan\")] = np.count_nonzero((df.iloc[:, col].isnull()) & (df.iloc[:, y].isnull()))\n",
    "        elif pd.isnull(val1) and not pd.isnull(val2):\n",
    "          count_dict[(\"nan\", val2)] = np.count_nonzero((df.iloc[:, col].isnull()) & (df.iloc[:, y] == val2))\n",
    "        elif not pd.isnull(val1) and pd.isnull(val2):\n",
    "          count_dict[(val1, \"nan\")] = np.count_nonzero((df.iloc[:, col] == val1) & (df.iloc[:, y].isnull()))\n",
    "        elif not pd.isnull(val1) and not pd.isnull(val2):\n",
    "          count_dict[(val1, val2)] = np.count_nonzero((df.iloc[:, col] == val1) & (df.iloc[:, y] == val2))\n",
    "    for val in y_value_counts.keys():\n",
    "      if y_value_counts[val] != 0:\n",
    "        h_y = h_y - y_value_counts[val]/df.shape[0] * math.log(y_value_counts[val]/df.shape[0])\n",
    "    \n",
    "    for val1 in df.iloc[:, col].unique():\n",
    "      for val2 in df.iloc[:, y].unique():\n",
    "        if pd.isnull(val1) and pd.isnull(val2) and count_dict[(\"nan\", \"nan\")] != 0:\n",
    "          h_x_y = h_x_y - col_value_counts[\"nan\"]/df.shape[0]*count_dict[(\"nan\", \"nan\")]/col_value_counts[\"nan\"]*\\\n",
    "          math.log(count_dict[(\"nan\", \"nan\")]/col_value_counts[\"nan\"])\n",
    "        elif pd.isnull(val1) and not pd.isnull(val2) and count_dict[(\"nan\", val2)] != 0:\n",
    "          h_x_y = h_x_y - col_value_counts[\"nan\"]/df.shape[0]*count_dict[(\"nan\", val2)]/col_value_counts[\"nan\"]*\\\n",
    "          math.log(count_dict[(\"nan\", val2)]/col_value_counts[\"nan\"])\n",
    "        elif not pd.isnull(val1) and pd.isnull(val2) and count_dict[(val1, \"nan\")] != 0:\n",
    "          h_x_y = h_x_y - col_value_counts[val1]/df.shape[0]*count_dict[(val1, \"nan\")]/col_value_counts[val1]*\\\n",
    "          math.log(count_dict[(val1, \"nan\")]/col_value_counts[val1])\n",
    "        elif not pd.isnull(val1) and not pd.isnull(val2) and count_dict[(val1, val2)] != 0:\n",
    "          h_x_y = h_x_y - col_value_counts[val1]/df.shape[0]*count_dict[(val1, val2)]/col_value_counts[val1]*\\\n",
    "          math.log(count_dict[(val1, val2)]/col_value_counts[val1])  \n",
    "  else:\n",
    "    y_value_counts = df.iloc[:, y].value_counts()\n",
    "#     y_value_counts[\"nan\"] = df.shape[0] - df.iloc[:, y].value_counts().sum()\n",
    "    col_value_counts = df.iloc[:, col].value_counts()\n",
    "#     col_value_counts[\"nan\"] = df.shape[0] - df.iloc[:, col].value_counts().sum()\n",
    "    h_y = 0\n",
    "    h_x_y = 0\n",
    "    count_dict = {}\n",
    "    \n",
    "    for val1 in df.iloc[:, col].unique():\n",
    "      for val2 in df.iloc[:, y].unique():\n",
    "        if pd.isnull(val1) and pd.isnull(val2):\n",
    "#           count_dict[(\"nan\", \"nan\")] = np.count_nonzero((df.iloc[:, col].isnull()) & (df.iloc[:, y].isnull()))\n",
    "          pass\n",
    "        elif pd.isnull(val1) and not pd.isnull(val2):\n",
    "#           count_dict[(\"nan\", val2)] = np.count_nonzero((df.iloc[:, col].isnull()) & (df.iloc[:, y] == val2))\n",
    "          pass\n",
    "        elif not pd.isnull(val1) and pd.isnull(val2):\n",
    "#           count_dict[(val1, \"nan\")] = np.count_nonzero((df.iloc[:, col] == val1) & (df.iloc[:, y].isnull()))\n",
    "          pass\n",
    "        elif not pd.isnull(val1) and not pd.isnull(val2):\n",
    "          count_dict[(val1, val2)] = np.count_nonzero((df.iloc[:, col] == val1) & (df.iloc[:, y] == val2))\n",
    "      \n",
    "    for val in y_value_counts.keys():\n",
    "      if y_value_counts[val] != 0:\n",
    "        h_y = h_y - y_value_counts[val]/df.iloc[:, y].value_counts().sum()\\\n",
    "        * math.log(y_value_counts[val]/df.iloc[:, y].value_counts().sum())\n",
    "    \n",
    "    for val1 in df.iloc[:, col].unique():\n",
    "      for val2 in df.iloc[:, y].unique():\n",
    "        if pd.isnull(val1) and pd.isnull(val2):\n",
    "#           h_x_y = h_x_y - col_value_counts[\"nan\"]/df.shape[0]*count_dict[(\"nan\", \"nan\")]/col_value_counts[\"nan\"]*\\\n",
    "#           math.log(count_dict[(\"nan\", \"nan\")]/col_value_counts[\"nan\"])\n",
    "          pass\n",
    "        elif pd.isnull(val1) and not pd.isnull(val2):\n",
    "#           h_x_y = h_x_y - col_value_counts[\"nan\"]/df.shape[0]*count_dict[(\"nan\", val2)]/col_value_counts[\"nan\"]*\\\n",
    "#           math.log(count_dict[(\"nan\", val2)]/col_value_counts[\"nan\"])\n",
    "          pass\n",
    "        elif not pd.isnull(val1) and pd.isnull(val2):\n",
    "#           h_x_y = h_x_y - col_value_counts[val1]/df.shape[0]*count_dict[(val1, \"nan\")]/col_value_counts[val1]*\\\n",
    "#           math.log(count_dict[(val1, \"nan\")]/col_value_counts[val1])\n",
    "          pass\n",
    "        elif not pd.isnull(val1) and not pd.isnull(val2) and count_dict[(val1, val2)] != 0:\n",
    "          h_x_y = h_x_y - col_value_counts[val1]/df.iloc[:, col].value_counts().sum()\\\n",
    "      *count_dict[(val1, val2)]/col_value_counts[val1]*\\\n",
    "          math.log(count_dict[(val1, val2)]/col_value_counts[val1])\n",
    "          \n",
    "  return h_y - h_x_y"
   ]
  },
  {
   "cell_type": "code",
   "execution_count": 11,
   "metadata": {},
   "outputs": [
    {
     "data": {
      "text/plain": [
       "0.1438410362258904"
      ]
     },
     "execution_count": 11,
     "metadata": {},
     "output_type": "execute_result"
    }
   ],
   "source": [
    "calculate_info_gain_g(df_temp, 0, 2, False)"
   ]
  }
 ],
 "metadata": {
  "kernelspec": {
   "display_name": "Python 3",
   "language": "python",
   "name": "python3"
  },
  "language_info": {
   "codemirror_mode": {
    "name": "ipython",
    "version": 3
   },
   "file_extension": ".py",
   "mimetype": "text/x-python",
   "name": "python",
   "nbconvert_exporter": "python",
   "pygments_lexer": "ipython3",
   "version": "3.6.4"
  }
 },
 "nbformat": 4,
 "nbformat_minor": 2
}
