{
 "cells": [
  {
   "cell_type": "code",
   "execution_count": 2,
   "metadata": {},
   "outputs": [],
   "source": [
    "import numpy as np\n",
    "import pandas as pd\n",
    "import math"
   ]
  },
  {
   "cell_type": "code",
   "execution_count": 17,
   "metadata": {},
   "outputs": [],
   "source": [
    "class Node:\n",
    "  \n",
    "  def __init__(self, activation, fan_in):\n",
    "    self.activation = activation\n",
    "    self.activation_set = self.__init_activation_set()\n",
    "    self.fan_in = fan_in\n",
    "    self.w = np.random.normal(0, 1/self.fan_in)\n",
    "  \n",
    "  def __init_activation_set():\n",
    "    activation_set = {'sigmoid':Node.sigmoid, \n",
    "                     'tanh':Node.tanh,\n",
    "                     'relu':Node.relu,\n",
    "                     'leaky_relu':Node.leaky_relu,\n",
    "                     'exponential_relu':Node.exponential_relu}\n",
    "    return activation_set\n",
    "    \n",
    "  @staticmethod\n",
    "  def sigmoid(z):\n",
    "    return (1/(1+math.exp(-z)))\n",
    "  \n",
    "  @staticmethod\n",
    "  def tanh(z):\n",
    "    return ((math.exp(z) - math.exp(-z))/(math.exp(z) + math.exp(-z)))\n",
    "  \n",
    "  @staticmethod\n",
    "  def relu(z):\n",
    "    return max(0, z)\n",
    "  \n",
    "  @staticmethod\n",
    "  def leaky_relu(z, alpha=0.1):\n",
    "    return max(alpha*z, z)\n",
    "  \n",
    "  @staticmethod\n",
    "  def exponential_relu(z, alpha=0.1):\n",
    "    if z >= 0:\n",
    "      return z\n",
    "    else:\n",
    "      return alpha*(math.exp(z)-1)\n",
    "    \n",
    "  "
   ]
  },
  {
   "cell_type": "code",
   "execution_count": 18,
   "metadata": {},
   "outputs": [
    {
     "ename": "TypeError",
     "evalue": "'str' object is not callable",
     "output_type": "error",
     "traceback": [
      "\u001b[0;31m---------------------------------------------------------------------------\u001b[0m",
      "\u001b[0;31mTypeError\u001b[0m                                 Traceback (most recent call last)",
      "\u001b[0;32m<ipython-input-18-030ed954fde6>\u001b[0m in \u001b[0;36m<module>\u001b[0;34m()\u001b[0m\n\u001b[0;32m----> 1\u001b[0;31m \u001b[0mnode\u001b[0m \u001b[0;34m=\u001b[0m \u001b[0mNode\u001b[0m\u001b[0;34m(\u001b[0m\u001b[0;34m'sigmoid'\u001b[0m\u001b[0;34m)\u001b[0m\u001b[0;34m\u001b[0m\u001b[0m\n\u001b[0m",
      "\u001b[0;32m<ipython-input-17-bc4d2bcc5e68>\u001b[0m in \u001b[0;36m__init__\u001b[0;34m(self, activation)\u001b[0m\n\u001b[1;32m      4\u001b[0m     \u001b[0mself\u001b[0m\u001b[0;34m.\u001b[0m\u001b[0mactivation\u001b[0m \u001b[0;34m=\u001b[0m \u001b[0mactivation\u001b[0m\u001b[0;34m\u001b[0m\u001b[0m\n\u001b[1;32m      5\u001b[0m     \u001b[0mactivation_set\u001b[0m \u001b[0;34m=\u001b[0m \u001b[0;34m{\u001b[0m\u001b[0;34m'sigmoid'\u001b[0m\u001b[0;34m:\u001b[0m\u001b[0mNode\u001b[0m\u001b[0;34m.\u001b[0m\u001b[0msigmoid\u001b[0m\u001b[0;34m}\u001b[0m\u001b[0;34m\u001b[0m\u001b[0m\n\u001b[0;32m----> 6\u001b[0;31m     \u001b[0mprint\u001b[0m\u001b[0;34m(\u001b[0m\u001b[0mactivation\u001b[0m\u001b[0;34m(\u001b[0m\u001b[0;36m0.3\u001b[0m\u001b[0;34m)\u001b[0m\u001b[0;34m)\u001b[0m\u001b[0;34m\u001b[0m\u001b[0m\n\u001b[0m\u001b[1;32m      7\u001b[0m \u001b[0;34m\u001b[0m\u001b[0m\n\u001b[1;32m      8\u001b[0m   \u001b[0;34m@\u001b[0m\u001b[0mstaticmethod\u001b[0m\u001b[0;34m\u001b[0m\u001b[0m\n",
      "\u001b[0;31mTypeError\u001b[0m: 'str' object is not callable"
     ]
    }
   ],
   "source": [
    "node = Node('sigmoid')"
   ]
  },
  {
   "cell_type": "code",
   "execution_count": null,
   "metadata": {},
   "outputs": [],
   "source": []
  }
 ],
 "metadata": {
  "kernelspec": {
   "display_name": "Python 3",
   "language": "python",
   "name": "python3"
  },
  "language_info": {
   "codemirror_mode": {
    "name": "ipython",
    "version": 3
   },
   "file_extension": ".py",
   "mimetype": "text/x-python",
   "name": "python",
   "nbconvert_exporter": "python",
   "pygments_lexer": "ipython3",
   "version": "3.6.4"
  }
 },
 "nbformat": 4,
 "nbformat_minor": 2
}
